{
 "cells": [
  {
   "cell_type": "markdown",
   "metadata": {},
   "source": [
    "# Before your start:\n",
    "- Read the README.md file\n",
    "- Comment as much as you can and use the resources in the README.md file\n",
    "- Happy learning!"
   ]
  },
  {
   "cell_type": "markdown",
   "metadata": {},
   "source": [
    "# Challenge 1 - Matrix Functions\n",
    "\n",
    "#### We would like to create our own matrix. To make life simple for us, we can represent matrices as a list of lists. For the sake of simplicity, we will assume that the maximum number of dimensions a matrix will have is 2.\n",
    "\n",
    "The most basic thing we would like to do with two matrices is to add them together. To add two matrices, we must perform a number of checks. The first check we would like to perform is whether the matrix is two dimesional. This is because we want to limit ourselves to two dimensional matrices to simplify our problem. In the cell below write a function that checks is a matrix is two dimesional. "
   ]
  },
  {
   "cell_type": "code",
   "execution_count": 2,
   "metadata": {
    "ExecuteTime": {
     "end_time": "2020-01-17T09:41:02.355833Z",
     "start_time": "2020-01-17T09:41:02.345860Z"
    }
   },
   "outputs": [],
   "source": [
    "\"\"\"Aqui verifico que es una lista de listas con numeros enteros o reales de dimension 2 aunque no sea un matriz\"\"\"\n",
    "def twodim(mat):\n",
    "    # This function takes a list of lists and checks that it is of depth 2. \n",
    "    # If the depth is not 2, either return false or return informative errors that let the user know the depth of the list.\n",
    "    # Input: nested list\n",
    "    # Output: Boolean (or error)\n",
    "    # Sample Input: [[1,2,3], [4,5,6]]\n",
    "    # Sample Output: True\n",
    "    \n",
    "    # Your Code Here:\n",
    "    if type(mat) != list:\n",
    "        raise ValueError(\"No es una lista de profundidad 2 valida\")\n",
    "    else:\n",
    "        for i in mat:\n",
    "            if type(i) != list:\n",
    "                raise ValueError(\"No es una lista de profundidad 2 valida\")\n",
    "            for j in i:\n",
    "                if type(j) != float and type(j) != int:\n",
    "                    raise ValueError(\"No es una lista de profundidad 2 valida\")\n",
    "    return True"
   ]
  },
  {
   "cell_type": "code",
   "execution_count": 12,
   "metadata": {
    "ExecuteTime": {
     "end_time": "2020-01-17T09:57:11.023782Z",
     "start_time": "2020-01-17T09:57:11.015804Z"
    }
   },
   "outputs": [
    {
     "data": {
      "text/plain": [
       "True"
      ]
     },
     "execution_count": 12,
     "metadata": {},
     "output_type": "execute_result"
    }
   ],
   "source": [
    "twodim([[1,2], [1,2,3,3.0],[1,2,3,2.5]])\n"
   ]
  },
  {
   "cell_type": "markdown",
   "metadata": {},
   "source": [
    "# Bonus Challenge 1 - Write the function recursively\n",
    "\n",
    "Rewrite the `twodim` function using recursion. \n",
    "Read more about recursion [here](https://www.cs.utah.edu/~germain/PPS/Topics/recursion.html)\n",
    "\n",
    "Hint: stop your recursion when there are no more lists, this wil be the depth of your matrix. Check that this depth is equal to 2.\n",
    "Second Hint: At every level of the recursion, use the filter function to keep only the members of the list that are lists."
   ]
  },
  {
   "cell_type": "code",
   "execution_count": 49,
   "metadata": {
    "ExecuteTime": {
     "end_time": "2020-01-17T13:57:43.413696Z",
     "start_time": "2020-01-17T13:57:43.403724Z"
    }
   },
   "outputs": [],
   "source": [
    "\"\"\"Esta forma funciona suponiendo que nos dan la matriz correctamente escrita\"\"\"\n",
    "from functools import reduce\n",
    "\n",
    "def dimension_mat(mat):\n",
    "    if type(mat) != list:\n",
    "        return 0\n",
    "    else:\n",
    "        return 1 + dimension_mat(mat[0])\n",
    "\n",
    "def twodimrecursive(mat):\n",
    "    if dimension_mat(mat) == 2:\n",
    "        return True\n",
    "    else:\n",
    "        return False\n",
    "    \n",
    "\"\"\"Otra forma de hacerlo\"\"\"\n",
    "\"\"\"No entiendo como poner el filter\"\"\"\n",
    "\n",
    "def dimension_mat1(mat):\n",
    "    dim = 0\n",
    "    if type(mat)!= list:\n",
    "        return dim\n",
    "    else:\n",
    "        dim = dim + 1 + dimension_mat1(reduce(lambda x,y: x + y ,mat))\n",
    "    return dim"
   ]
  },
  {
   "cell_type": "code",
   "execution_count": 51,
   "metadata": {
    "ExecuteTime": {
     "end_time": "2020-01-17T13:57:51.496304Z",
     "start_time": "2020-01-17T13:57:51.484353Z"
    }
   },
   "outputs": [
    {
     "name": "stdout",
     "output_type": "stream",
     "text": [
      "2\n",
      "True\n",
      "3\n",
      "False\n",
      "5\n"
     ]
    }
   ],
   "source": [
    "print(dimension_mat([[1,2,3],[1,2,3],[1,2,3]]))\n",
    "print(twodimrecursive([[1,2,3],[1,2,3],[1,2,3]]))\n",
    "print(dimension_mat([[[1],[2],[3]],[[1],[2],[3]],[[1],[2],[3]]]))\n",
    "print(twodimrecursive([[[1],[2],[3]],[[1],[2],[3]],[[1],[2],[3]]]))\n",
    "print(dimension_mat([[[[[1]]]]]))\n"
   ]
  },
  {
   "cell_type": "markdown",
   "metadata": {},
   "source": [
    "#### Next, we will write a function that checks for the number of rows and columns of a matrix. \n",
    "\n",
    "Recall that the outer list will tell us the number of rows and the inner lists will tell us the number of columns. Make sure that all inner lists are of the same length."
   ]
  },
  {
   "cell_type": "code",
   "execution_count": 7,
   "metadata": {
    "ExecuteTime": {
     "end_time": "2020-01-17T09:56:18.653680Z",
     "start_time": "2020-01-17T09:56:18.644703Z"
    }
   },
   "outputs": [],
   "source": [
    "\"\"\"Aqui se comprueba que es una matriz\"\"\"\n",
    "def rowcolumn(mat):\n",
    "    # This function takes a list of lists and returns the size of the rows and the columns \n",
    "    # Input: list of lists\n",
    "    # Output: Tuple of rows and columns\n",
    "    #\n",
    "    # Sample input: [[1,2,3],[4,5,6]]\n",
    "    # Sample Output: (2, 3)\n",
    "    \n",
    "    # Your code here:\n",
    "    if twodim(mat):\n",
    "        \n",
    "        rows = len(mat)\n",
    "        columns = len(mat[0])\n",
    "    \n",
    "        for i in mat:\n",
    "            if len(i)!= columns:\n",
    "                raise ValueError(\"No todas las filas tienen el mismo numero de elementos\")\n",
    "\n",
    "    return (rows, columns)\n",
    "        \n",
    "   \n",
    "        \n",
    "    "
   ]
  },
  {
   "cell_type": "code",
   "execution_count": 11,
   "metadata": {
    "ExecuteTime": {
     "end_time": "2020-01-17T09:56:52.802777Z",
     "start_time": "2020-01-17T09:56:52.793832Z"
    }
   },
   "outputs": [
    {
     "data": {
      "text/plain": [
       "(3, 4)"
      ]
     },
     "execution_count": 11,
     "metadata": {},
     "output_type": "execute_result"
    }
   ],
   "source": [
    "rowcolumn([[1,2,3,4],[1,2,3,4],[1,2,3,4]])\n"
   ]
  },
  {
   "cell_type": "markdown",
   "metadata": {},
   "source": [
    "#### Our next step is to write a function that compares two matrices and tells us whether they are of equal size.\n",
    "\n",
    "In this function we will check whether the number of rows and number of columns is the same."
   ]
  },
  {
   "cell_type": "code",
   "execution_count": 26,
   "metadata": {
    "ExecuteTime": {
     "end_time": "2020-01-15T19:51:02.697346Z",
     "start_time": "2020-01-15T19:51:02.691764Z"
    }
   },
   "outputs": [],
   "source": [
    "def compare(mat1, mat2):\n",
    "    # This function takes a two lists of lists and checks whether they have the same number of rows and columns\n",
    "    # Input: two list of lists\n",
    "    # Output: True or False\n",
    "    #\n",
    "    # Sample input: [[1,2,3],[4,5,6]], [[7,8,9], [10,11,12]]\n",
    "    # Sample Output: True\n",
    "    \n",
    "    # Your code here:\n",
    "    if rowcolumn(mat1) == rowcolumn(mat2):\n",
    "        return True\n",
    "    else: \n",
    "        raise ValueError(\"Las matrices no tienen la misma dimension\")"
   ]
  },
  {
   "cell_type": "code",
   "execution_count": 27,
   "metadata": {
    "ExecuteTime": {
     "end_time": "2020-01-15T19:51:04.633893Z",
     "start_time": "2020-01-15T19:51:04.622435Z"
    }
   },
   "outputs": [
    {
     "data": {
      "text/plain": [
       "True"
      ]
     },
     "execution_count": 27,
     "metadata": {},
     "output_type": "execute_result"
    }
   ],
   "source": [
    "compare([[1,2,3],[4,5,6]], [[7,8,9], [10,11,12]])"
   ]
  },
  {
   "cell_type": "markdown",
   "metadata": {},
   "source": [
    "#### Now that we have all the tools we need, write a function that adds two matrices together. \n",
    "\n",
    "Remember that a matrix is represented as a list of lists. Therefore, we must add each element in the list. The plus symbol is used for concatenating two lists and not for adding every element in two lists."
   ]
  },
  {
   "cell_type": "code",
   "execution_count": 42,
   "metadata": {
    "ExecuteTime": {
     "end_time": "2020-01-15T19:59:03.457748Z",
     "start_time": "2020-01-15T19:59:03.451694Z"
    }
   },
   "outputs": [],
   "source": [
    "def addition(mat1, mat2):\n",
    "    # This function takes a two lists of lists and adds each cell together\n",
    "    # Input: two list of lists\n",
    "    # Output: one summed list of lists\n",
    "    #\n",
    "    # Sample input: [[1,2,3],[4,5,6]], [[7,8,9], [10,11,12]]\n",
    "    # Sample Output: [[8,10,12],[14,16,18]]\n",
    "    \n",
    "    # Your code here:\n",
    "    if compare(mat1,mat2):\n",
    "        for i in range(len(mat1)):\n",
    "            for j in range(len(mat1[i])):\n",
    "                mat1[i][j] += mat2[i][j]\n",
    "    return mat1"
   ]
  },
  {
   "cell_type": "code",
   "execution_count": 43,
   "metadata": {
    "ExecuteTime": {
     "end_time": "2020-01-15T19:59:03.773389Z",
     "start_time": "2020-01-15T19:59:03.764794Z"
    }
   },
   "outputs": [
    {
     "data": {
      "text/plain": [
       "[[8, 10, 12], [14, 16, 18]]"
      ]
     },
     "execution_count": 43,
     "metadata": {},
     "output_type": "execute_result"
    }
   ],
   "source": [
    "addition([[1,2,3],[4,5,6]], [[7,8,9], [10,11,12]])"
   ]
  },
  {
   "cell_type": "markdown",
   "metadata": {},
   "source": [
    "# Challenge 2 - Creating the Class\n",
    "\n",
    "In the cell below, you will be creating the class Matrix2D. Use the functions you have written above and tweak them according to the instructions in the comments. You got this!"
   ]
  },
  {
   "cell_type": "code",
   "execution_count": 42,
   "metadata": {
    "ExecuteTime": {
     "end_time": "2020-01-17T11:34:14.497381Z",
     "start_time": "2020-01-17T11:34:14.476437Z"
    }
   },
   "outputs": [],
   "source": [
    "class Matrix2D:\n",
    "    # First, we will write the __init__ function. \n",
    "    # In this function, we will initialize rows and the columns using the matrix that we have passed to the class.\n",
    "    \n",
    "    def __init__(self, mat):\n",
    "        # Assign mat to self.mat\n",
    "        # Assign rows and cols to self.rows and self.cols\n",
    "        # To find the rows and the cols, use the rowcolumn function and pass self.mat to the function.\n",
    "        # Since the rowcolumn function is now a member of the class, make sure to refer to the function as self.rowcolumn\n",
    "        \n",
    "        # Your code here:\n",
    "        self.mat = mat\n",
    "        rows = self.rowcolumn(self.mat)[0]\n",
    "        cols = self.rowcolumn(self.mat)[1]\n",
    "        self.rows = rows\n",
    "        self.cols = cols\n",
    "    \n",
    "    # Insert the twodim function here.\n",
    "    # The only change you need to make is that now we are passing self and mat to the function (make sure self is first).\n",
    "    \n",
    "    # Your code here:\n",
    "    def twodim(self, mat):\n",
    "        if type(mat) != list:\n",
    "            raise ValueError(\"No es una lista de profundidad 2 valida\")\n",
    "        else:\n",
    "            for i in mat:\n",
    "                if type(i) != list:\n",
    "                    raise ValueError(\"No es una lista de profundidad 2 valida\")\n",
    "                for j in i:\n",
    "                    if type(j) != float and type(j) != int:\n",
    "                        raise ValueError(\"No es una lista de profundidad 2 valida\")\n",
    "        return True\n",
    "    \n",
    "    # Insert the rowcolumn function here.\n",
    "    # The changes you need to make: \n",
    "    # 1. The function now takes self and mat as arguments (make sure to pass self first).\n",
    "    # 2. Any reference to twodim will be changed to self.twodim since this function is a member of the class and takes self \n",
    "    \n",
    "    # Your code here:\n",
    "    def rowcolumn(self, mat):\n",
    "        if self.twodim(mat):\n",
    "\n",
    "            rows = len(mat)\n",
    "            columns = len(mat[0])\n",
    "\n",
    "            for i in mat:\n",
    "                if len(i)!= columns:\n",
    "                    raise ValueError(\"No todas las filas tienen el mismo numero de elementos\")\n",
    "\n",
    "        return (rows, columns)\n",
    "\n",
    "    \n",
    "    \n",
    "    # Insert the compare function here\n",
    "    # Add self as the first argument passed to the function\n",
    "    \n",
    "    # Your code here:\n",
    "    def compare(self, mat1, mat2):\n",
    "        if self.rowcolumn(mat1) == self.rowcolumn(mat2):\n",
    "            return True\n",
    "        else: \n",
    "            raise ValueError(\"Las matrices no tienen la misma dimension\")\n",
    "\n",
    "\n",
    "    # Insert the addition function here\n",
    "    # This function now takes self and matrix (another matrix of the Matrix2D class)\n",
    "    # Change the compare function to self.compare \n",
    "    # Change any reference to mat1 and mat2 to self.mat and matrix.mat respectively\n",
    "    # Return your result as a Matrix2D(result). This will ensure that we return a new matrix and not a list of lists.\n",
    "    \n",
    "    # Your code here:\n",
    "    def addition(self, matrix):\n",
    "        if self.compare(self.mat,matrix.mat):\n",
    "            for i in range(len(self.mat)):\n",
    "                for j in range(len(self.mat[i])):\n",
    "                    self.mat[i][j] += matrix.mat[i][j]\n",
    "        \n",
    "        return Matrix2D(self.mat)\n"
   ]
  },
  {
   "cell_type": "code",
   "execution_count": 45,
   "metadata": {
    "ExecuteTime": {
     "end_time": "2020-01-17T11:37:12.225154Z",
     "start_time": "2020-01-17T11:37:12.212191Z"
    }
   },
   "outputs": [
    {
     "name": "stdout",
     "output_type": "stream",
     "text": [
      "[[8, 10, 12], [14, 16, 18]]\n",
      "[[2, 4], [6, 8]]\n"
     ]
    },
    {
     "data": {
      "text/plain": [
       "(2, 2)"
      ]
     },
     "execution_count": 45,
     "metadata": {},
     "output_type": "execute_result"
    }
   ],
   "source": [
    "print(Matrix2D([[1,2,3],[4,5,6]]).addition(Matrix2D([[7,8,9],[10,11,12]])).mat)\n",
    "\n",
    "x = Matrix2D([[1,2],[3,4]])\n",
    "y = Matrix2D([[1,2],[3,4]]).addition(x).mat\n",
    "print(y)\n",
    "\n",
    "x = Matrix2D([[1,2,3],[3,4,1]])\n",
    "x.rowcolumn([[1,2],[1,2]])\n"
   ]
  },
  {
   "cell_type": "markdown",
   "metadata": {},
   "source": [
    "# Bonus Challenge 2 - Transpose Function\n",
    "\n",
    "#### Write a function that transposes the matrix and add it to your class.\n",
    "\n",
    "You can read more about the transpose of a matrix [here](https://en.wikipedia.org/wiki/Transpose).\n",
    "\n",
    "Hint: Use the zip function. Read about it [here](https://docs.python.org/3.3/library/functions.html#zip)\n",
    "\n",
    "Second Hint: Read about the asterisk in Python [here](https://docs.python.org/3/reference/expressions.html#expression-lists)"
   ]
  },
  {
   "cell_type": "code",
   "execution_count": 56,
   "metadata": {
    "ExecuteTime": {
     "end_time": "2020-01-17T14:08:30.287312Z",
     "start_time": "2020-01-17T14:08:30.281327Z"
    }
   },
   "outputs": [],
   "source": [
    "def transpose(mat):\n",
    "    # This function takes a list of lists and returns a transposed list of lists.\n",
    "    # Input: list of lists\n",
    "    # Output: list of lists\n",
    "    \n",
    "    # Sample Input: [[1,2,3],[4,5,6]]\n",
    "    # Sample Output: [[1,4], [2,5], [3,6]]\n",
    "    \n",
    "    # Your code here:\n",
    "\n",
    "    return [ list(i) for i in zip(*mat) ]"
   ]
  },
  {
   "cell_type": "code",
   "execution_count": 57,
   "metadata": {
    "ExecuteTime": {
     "end_time": "2020-01-17T14:08:30.715940Z",
     "start_time": "2020-01-17T14:08:30.709959Z"
    }
   },
   "outputs": [
    {
     "data": {
      "text/plain": [
       "[[1, 4], [2, 5], [3, 6]]"
      ]
     },
     "execution_count": 57,
     "metadata": {},
     "output_type": "execute_result"
    }
   ],
   "source": [
    "transpose([[1,2,3],[4,5,6]])"
   ]
  },
  {
   "cell_type": "code",
   "execution_count": null,
   "metadata": {},
   "outputs": [],
   "source": []
  }
 ],
 "metadata": {
  "kernelspec": {
   "display_name": "Python 3",
   "language": "python",
   "name": "python3"
  },
  "language_info": {
   "codemirror_mode": {
    "name": "ipython",
    "version": 3
   },
   "file_extension": ".py",
   "mimetype": "text/x-python",
   "name": "python",
   "nbconvert_exporter": "python",
   "pygments_lexer": "ipython3",
   "version": "3.7.4"
  },
  "varInspector": {
   "cols": {
    "lenName": 16,
    "lenType": 16,
    "lenVar": 40
   },
   "kernels_config": {
    "python": {
     "delete_cmd_postfix": "",
     "delete_cmd_prefix": "del ",
     "library": "var_list.py",
     "varRefreshCmd": "print(var_dic_list())"
    },
    "r": {
     "delete_cmd_postfix": ") ",
     "delete_cmd_prefix": "rm(",
     "library": "var_list.r",
     "varRefreshCmd": "cat(var_dic_list()) "
    }
   },
   "types_to_exclude": [
    "module",
    "function",
    "builtin_function_or_method",
    "instance",
    "_Feature"
   ],
   "window_display": false
  }
 },
 "nbformat": 4,
 "nbformat_minor": 2
}
